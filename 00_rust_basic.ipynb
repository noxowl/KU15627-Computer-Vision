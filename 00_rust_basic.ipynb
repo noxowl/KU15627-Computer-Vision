{
 "cells": [
  {
   "cell_type": "markdown",
   "id": "f74e2471",
   "metadata": {},
   "source": [
    "# About Rust\n",
    "* Rust is an expression-oriented language."
   ]
  },
  {
   "cell_type": "code",
   "execution_count": 41,
   "id": "f3ba6e51",
   "metadata": {},
   "outputs": [
    {
     "name": "stdout",
     "output_type": "stream",
     "text": [
      "hello world!\n",
      "123\n",
      "0.123\n",
      "10\n"
     ]
    }
   ],
   "source": [
    "let x = 10;\n",
    "  println!(\"hello world!\");\n",
    "  println!(\"{}\", 123);\n",
    "  println!(\"{}\", 0.123);\n",
    "  println!(\"{}\", x);"
   ]
  },
  {
   "cell_type": "markdown",
   "id": "a23f2bc8",
   "metadata": {},
   "source": [
    "# How to load local data\n",
    "* Download Image dataset from [ess.ic.kanagawa-it.ac.jp]((http://www.ess.ic.kanagawa-it.ac.jp/app_images_j.html#image_dl)) to working directory."
   ]
  },
  {
   "cell_type": "code",
   "execution_count": 42,
   "id": "c18a7c0f",
   "metadata": {},
   "outputs": [
    {
     "name": "stdout",
     "output_type": "stream",
     "text": [
      "Pepper.bmp\n",
      "Balloon.bmp\n",
      "Airplane.bmp\n",
      "Mandrill.bmp\n",
      "couple.bmp\n",
      "Parrots.bmp\n",
      "Sailboat.bmp\n",
      "Aerial.bmp\n",
      "milkdrop.bmp\n",
      "Girl.bmp\n",
      "Earth.bmp\n",
      "Lenna.bmp\n"
     ]
    },
    {
     "data": {
      "text/plain": [
       "()"
      ]
     },
     "execution_count": 42,
     "metadata": {},
     "output_type": "execute_result"
    }
   ],
   "source": [
    "use std::fs;\n",
    "\n",
    "let image_path = \"./images\";\n",
    "\n",
    "// Get the file list\n",
    "for file in fs::read_dir(image_path).unwrap().filter_map(|file| file.ok()) {\n",
    "    println!(\"{}\", file.path().to_path_buf().file_name().unwrap().to_str().unwrap());\n",
    "  }"
   ]
  },
  {
   "cell_type": "markdown",
   "id": "1283b6f2",
   "metadata": {},
   "source": [
    "# Basic mathematical operation\n",
    "\n",
    "* Addition: a + b\n",
    "* Subtraction: a - b\n",
    "* Multiplication: a * b\n",
    "* Division: a / b\n",
    "* Remainder: a % b\n",
    "* Power: type::pow(a, b) (e.g. i32)"
   ]
  },
  {
   "cell_type": "code",
   "execution_count": 43,
   "id": "682bfc2e",
   "metadata": {},
   "outputs": [
    {
     "data": {
      "text/plain": [
       "2"
      ]
     },
     "execution_count": 43,
     "metadata": {},
     "output_type": "execute_result"
    }
   ],
   "source": [
    "1 + 1"
   ]
  },
  {
   "cell_type": "code",
   "execution_count": 44,
   "id": "38c96651",
   "metadata": {},
   "outputs": [
    {
     "data": {
      "text/plain": [
       "256"
      ]
     },
     "execution_count": 44,
     "metadata": {},
     "output_type": "execute_result"
    }
   ],
   "source": [
    "i32::pow(2, 8)"
   ]
  },
  {
   "cell_type": "code",
   "execution_count": 45,
   "id": "ca8045ac",
   "metadata": {},
   "outputs": [
    {
     "data": {
      "text/plain": [
       "1.23"
      ]
     },
     "execution_count": 45,
     "metadata": {},
     "output_type": "execute_result"
    }
   ],
   "source": [
    "// let a: i32 = 1.23; // expected `i32`, found floating-point number.\n",
    "let a: f32 = 1.23;\n",
    "a"
   ]
  },
  {
   "cell_type": "markdown",
   "id": "f7547338",
   "metadata": {},
   "source": [
    "# Sequenes"
   ]
  },
  {
   "cell_type": "code",
   "execution_count": 46,
   "id": "8f1237ae",
   "metadata": {},
   "outputs": [
    {
     "name": "stdout",
     "output_type": "stream",
     "text": [
      "vec: [\n",
      "    1,\n",
      "    2,\n",
      "]\n",
      "a: [\n",
      "    1,\n",
      "    2,\n",
      "    3,\n",
      "    4,\n",
      "    5,\n",
      "]\n"
     ]
    }
   ],
   "source": [
    "// let vec = Vec::new();\n",
    "// vec.push(1); // cannot borrow as mutable\n",
    "let mut vec = Vec::new();\n",
    "vec.push(1);\n",
    "vec.push(2);\n",
    "println!(\"vec: {:#?}\", vec);\n",
    "\n",
    "let a = [1, 2, 3, 4, 5]; // It create fixed-size array.\n",
    "println!(\"a: {:#?}\", &a);\n",
    "// a.push(6); // no method named `push` found for array `[{integer}; 5]` in the current scope \n",
    "\n",
    "// let mut b = [0.1, \"test\", 3, 4]; // expected floating-point number, found `&str`\n",
    "// println!(\"b: {:#?}\", b);"
   ]
  },
  {
   "cell_type": "code",
   "execution_count": 47,
   "id": "98c027bf",
   "metadata": {},
   "outputs": [
    {
     "name": "stdout",
     "output_type": "stream",
     "text": [
      "c: [\n",
      "    1,\n",
      "    2,\n",
      "    3,\n",
      "    4,\n",
      "    5,\n",
      "]\n",
      "c: [\n",
      "    1,\n",
      "    2,\n",
      "    3,\n",
      "    4,\n",
      "    5,\n",
      "    6,\n",
      "]\n"
     ]
    }
   ],
   "source": [
    "let mut c = vec![1, 2, 3, 4, 5];  \n",
    "println!(\"c: {:#?}\", c);\n",
    "c.push(6); // push new data at the end of the sequence.\n",
    "println!(\"c: {:#?}\", c);"
   ]
  },
  {
   "cell_type": "markdown",
   "id": "f2c372ec",
   "metadata": {},
   "source": [
    "# Conditional statements"
   ]
  },
  {
   "cell_type": "markdown",
   "id": "c0dd0baa",
   "metadata": {},
   "source": [
    "* if-statement"
   ]
  },
  {
   "cell_type": "code",
   "execution_count": 48,
   "id": "ab5b77c0",
   "metadata": {},
   "outputs": [
    {
     "name": "stdout",
     "output_type": "stream",
     "text": [
      "1 is positive.\n"
     ]
    },
    {
     "data": {
      "text/plain": [
       "()"
      ]
     },
     "execution_count": 48,
     "metadata": {},
     "output_type": "execute_result"
    }
   ],
   "source": [
    "let x = 1;\n",
    "// if-else\n",
    "if x < 0 {\n",
    "    println!(\"{} is negative.\", x);\n",
    "} else if x > 0 {\n",
    "    println!(\"{} is positive.\", x);\n",
    "} else {\n",
    "    println!(\"{} is zero.\", x);\n",
    "}"
   ]
  },
  {
   "cell_type": "markdown",
   "id": "36ffc4e0",
   "metadata": {},
   "source": [
    "* if-statement using \"in\" operator"
   ]
  },
  {
   "cell_type": "code",
   "execution_count": 49,
   "id": "ce749668",
   "metadata": {},
   "outputs": [
    {
     "name": "stdout",
     "output_type": "stream",
     "text": [
      "x is included.\n",
      "x is included.\n",
      "Hello is included.\n"
     ]
    },
    {
     "data": {
      "text/plain": [
       "()"
      ]
     },
     "execution_count": 49,
     "metadata": {},
     "output_type": "execute_result"
    }
   ],
   "source": [
    "// in operator\n",
    "let l = [1, 2, 3, 4, 5];\n",
    "if l.contains(&x) {\n",
    "    println!(\"x is included.\");\n",
    "} else {\n",
    "    println!(\"x is not included.\");\n",
    "}\n",
    "\n",
    "if l.iter().any(|v| v == &x) {\n",
    "    println!(\"x is included.\");\n",
    "} else {\n",
    "    println!(\"x is not included.\");\n",
    "}\n",
    "\n",
    "// in operator with string\n",
    "let s = \"Hello world\";\n",
    "if s.contains(\"Hello\") {\n",
    "    println!(\"Hello is included.\");\n",
    "}"
   ]
  },
  {
   "cell_type": "markdown",
   "id": "ba3e54ff",
   "metadata": {},
   "source": [
    "* if-statement using \"Ternary\" operator"
   ]
  },
  {
   "cell_type": "code",
   "execution_count": 50,
   "id": "3c147c87",
   "metadata": {},
   "outputs": [
    {
     "name": "stdout",
     "output_type": "stream",
     "text": [
      "x is 1\n"
     ]
    }
   ],
   "source": [
    "println!(\"{}\", if x == 1 { \"x is 1\" } else { \"x is not 1\" });"
   ]
  },
  {
   "cell_type": "markdown",
   "id": "5ebc9075",
   "metadata": {},
   "source": [
    "* Loop statement"
   ]
  },
  {
   "cell_type": "code",
   "execution_count": 51,
   "id": "64eb76ac",
   "metadata": {},
   "outputs": [
    {
     "name": "stdout",
     "output_type": "stream",
     "text": [
      "for-statement with range: 0\n",
      "for-statement with range: 1\n",
      "for-statement with range: 2\n",
      "for-statement with range: 3\n",
      "for-statement with range: 4\n",
      "for-statement with range: 5\n",
      "for-statement with range: 6\n",
      "for-statement with range: 7\n",
      "for-statement with range: 8\n",
      "for-statement with range: 9\n"
     ]
    },
    {
     "data": {
      "text/plain": [
       "()"
      ]
     },
     "execution_count": 51,
     "metadata": {},
     "output_type": "execute_result"
    }
   ],
   "source": [
    "for i in 0..10 {\n",
    "    println!(\"for-statement with range: {}\", i);\n",
    "}"
   ]
  },
  {
   "cell_type": "code",
   "execution_count": 52,
   "id": "e42db5e5",
   "metadata": {},
   "outputs": [
    {
     "name": "stdout",
     "output_type": "stream",
     "text": [
      "for-statement with int array: 1\n",
      "for-statement with int array: 2\n",
      "for-statement with int array: 3\n",
      "for-statement with int array: 4\n",
      "for-statement with int array: 5\n"
     ]
    },
    {
     "data": {
      "text/plain": [
       "()"
      ]
     },
     "execution_count": 52,
     "metadata": {},
     "output_type": "execute_result"
    }
   ],
   "source": [
    "let l = [1, 2, 3, 4, 5];\n",
    "for i in &l {\n",
    "    println!(\"for-statement with int array: {}\", i);\n",
    "}"
   ]
  },
  {
   "cell_type": "code",
   "execution_count": 53,
   "id": "a1778b21",
   "metadata": {},
   "outputs": [
    {
     "name": "stdout",
     "output_type": "stream",
     "text": [
      "for-statement with string vector: a\n",
      "for-statement with string vector: b\n",
      "for-statement with string vector: c\n"
     ]
    },
    {
     "data": {
      "text/plain": [
       "()"
      ]
     },
     "execution_count": 53,
     "metadata": {},
     "output_type": "execute_result"
    }
   ],
   "source": [
    "let mut v = vec![\"a\", \"b\", \"c\"];\n",
    "for s in &v {\n",
    "    println!(\"for-statement with string vector: {}\", s);\n",
    "}"
   ]
  },
  {
   "cell_type": "code",
   "execution_count": 54,
   "id": "58d2e01e",
   "metadata": {},
   "outputs": [
    {
     "name": "stdout",
     "output_type": "stream",
     "text": [
      "while-statement: 0\n",
      "while-statement: 1\n",
      "while-statement: 2\n",
      "while-statement: 3\n",
      "while-statement: 4\n",
      "while-statement: 5\n",
      "while-statement: 6\n",
      "while-statement: 7\n",
      "while-statement: 8\n",
      "while-statement: 9\n"
     ]
    },
    {
     "data": {
      "text/plain": [
       "()"
      ]
     },
     "execution_count": 54,
     "metadata": {},
     "output_type": "execute_result"
    }
   ],
   "source": [
    "let mut i = 0;\n",
    "while i < 10 {\n",
    "    println!(\"while-statement: {}\", i);\n",
    "    i += 1;\n",
    "}"
   ]
  },
  {
   "cell_type": "code",
   "execution_count": 55,
   "id": "62d58986",
   "metadata": {},
   "outputs": [
    {
     "name": "stdout",
     "output_type": "stream",
     "text": [
      "while-let-statement s = c\n",
      "while-let-statement s = b\n",
      "while-let-statement s = a\n"
     ]
    },
    {
     "data": {
      "text/plain": [
       "()"
      ]
     },
     "execution_count": 55,
     "metadata": {},
     "output_type": "execute_result"
    }
   ],
   "source": [
    "while let Some(s) = &v.pop() {\n",
    "    println!(\"while-let-statement s = {}\", s);\n",
    "}"
   ]
  },
  {
   "cell_type": "markdown",
   "id": "c9a66324",
   "metadata": {},
   "source": [
    "# Function"
   ]
  },
  {
   "cell_type": "code",
   "execution_count": 56,
   "id": "1b1db4e2",
   "metadata": {},
   "outputs": [
    {
     "name": "stdout",
     "output_type": "stream",
     "text": [
      "15 5\n"
     ]
    }
   ],
   "source": [
    "/// return value.\n",
    "fn add_sub(a: i32, b: i32) -> (i32, i32) {\n",
    "  (a + b, a - b)\n",
    "  // or return (a + b, a - b)\n",
    "}\n",
    "\n",
    "let (x, y) = add_sub(10, 5);\n",
    "println!(\"{} {}\", x, y);"
   ]
  },
  {
   "cell_type": "code",
   "execution_count": 57,
   "id": "56d60faf",
   "metadata": {},
   "outputs": [
    {
     "name": "stdout",
     "output_type": "stream",
     "text": [
      "hello\n"
     ]
    }
   ],
   "source": [
    "/// No return value.\n",
    "fn print_hello() {\n",
    "  println!(\"hello\");\n",
    "}\n",
    "print_hello();"
   ]
  },
  {
   "cell_type": "markdown",
   "id": "0033b90d",
   "metadata": {},
   "source": [
    "# Crate: ndarray (NumPy alternative) ([reference](https://docs.rs/ndarray/latest/ndarray/doc/ndarray_for_numpy_users/index.html))"
   ]
  },
  {
   "cell_type": "code",
   "execution_count": 58,
   "id": "7181e3d1",
   "metadata": {},
   "outputs": [],
   "source": [
    ":dep ndarray = \"0.15.6\"\n",
    "use ndarray::{array, Array1, Axis};"
   ]
  },
  {
   "cell_type": "code",
   "execution_count": 59,
   "id": "83328eaf",
   "metadata": {},
   "outputs": [
    {
     "data": {
      "text/plain": [
       "[1, 2, 3], shape=[3], strides=[1], layout=CFcf (0xf), const ndim=1"
      ]
     },
     "execution_count": 59,
     "metadata": {},
     "output_type": "execute_result"
    }
   ],
   "source": [
    "// Define array variable\n",
    "let a: Array1<i32> = array!(1, 2, 3);\n",
    "&a"
   ]
  },
  {
   "cell_type": "code",
   "execution_count": 60,
   "id": "7c174e69",
   "metadata": {},
   "outputs": [
    {
     "data": {
      "text/plain": [
       "[3, 6, 9], shape=[3], strides=[1], layout=CFcf (0xf), const ndim=1"
      ]
     },
     "execution_count": 60,
     "metadata": {},
     "output_type": "execute_result"
    }
   ],
   "source": [
    "// Multiplication\n",
    "&a * 3"
   ]
  },
  {
   "cell_type": "code",
   "execution_count": 61,
   "id": "384dac54",
   "metadata": {},
   "outputs": [
    {
     "data": {
      "text/plain": [
       "[3, 4, 5], shape=[3], strides=[1], layout=CFcf (0xf), const ndim=1"
      ]
     },
     "execution_count": 61,
     "metadata": {},
     "output_type": "execute_result"
    }
   ],
   "source": [
    "// Addition\n",
    "&a + 2"
   ]
  },
  {
   "cell_type": "code",
   "execution_count": 62,
   "id": "b40e4758",
   "metadata": {},
   "outputs": [
    {
     "name": "stdout",
     "output_type": "stream",
     "text": [
      "addition of two vectors: [5, 7, 9]\n",
      "multiplication of two vectors: [4, 10, 18]\n",
      "inner product of vectors: 32\n"
     ]
    }
   ],
   "source": [
    "let b: Array1<i32> = array![4, 5, 6];\n",
    "println!(\"addition of two vectors: {}\", &a + &b); // addition of two vectors\n",
    "println!(\"multiplication of two vectors: {}\", &a * &b); // multiplication of two vectors\n",
    "println!(\"inner product of vectors: {}\", &a.dot(&b)); // inner product of vectors"
   ]
  },
  {
   "cell_type": "code",
   "execution_count": 63,
   "id": "7f50399b",
   "metadata": {},
   "outputs": [],
   "source": [
    "let c = array![[1, 2, 3], [4, 5, 6]]; "
   ]
  },
  {
   "cell_type": "code",
   "execution_count": 64,
   "id": "ac43a2b8",
   "metadata": {},
   "outputs": [
    {
     "name": "stdout",
     "output_type": "stream",
     "text": [
      "[[1, 2, 3],\n",
      " [4, 5, 6]]\n"
     ]
    }
   ],
   "source": [
    "println!(\"{}\", &c); // multidimensional array"
   ]
  },
  {
   "cell_type": "code",
   "execution_count": 65,
   "id": "df6dbe8c",
   "metadata": {},
   "outputs": [
    {
     "name": "stdout",
     "output_type": "stream",
     "text": [
      "array-shape: [\n",
      "    2,\n",
      "    3,\n",
      "]\n"
     ]
    }
   ],
   "source": [
    "println!(\"array-shape: {:#?}\", &c.shape()); // array-shape"
   ]
  },
  {
   "cell_type": "code",
   "execution_count": 66,
   "id": "89c35988",
   "metadata": {},
   "outputs": [
    {
     "name": "stdout",
     "output_type": "stream",
     "text": [
      "multiplication of matrix and vector: [14, 32]\n"
     ]
    }
   ],
   "source": [
    "println!(\"multiplication of matrix and vector: {}\", &c.dot(&a)); // multiplication of matrix and vector"
   ]
  },
  {
   "cell_type": "code",
   "execution_count": 67,
   "id": "4112a823",
   "metadata": {},
   "outputs": [
    {
     "name": "stdout",
     "output_type": "stream",
     "text": [
      "sum: 21\n"
     ]
    }
   ],
   "source": [
    "println!(\"sum: {}\", &c.sum()); // sum of all elements"
   ]
  },
  {
   "cell_type": "code",
   "execution_count": 68,
   "id": "9af17723",
   "metadata": {},
   "outputs": [
    {
     "name": "stdout",
     "output_type": "stream",
     "text": [
      "sum row: [5, 7, 9]\n"
     ]
    }
   ],
   "source": [
    "println!(\"sum row: {}\", &c.sum_axis(Axis(0))); // sum of each row"
   ]
  },
  {
   "cell_type": "code",
   "execution_count": 69,
   "id": "514d6137",
   "metadata": {},
   "outputs": [
    {
     "name": "stdout",
     "output_type": "stream",
     "text": [
      "sum col: [6, 15]\n"
     ]
    }
   ],
   "source": [
    "println!(\"sum col: {}\", &c.sum_axis(Axis(1))); // sum of each col"
   ]
  },
  {
   "cell_type": "code",
   "execution_count": 70,
   "id": "89608934",
   "metadata": {},
   "outputs": [],
   "source": [
    "//println!(\"mean: {}\", &c.sum_axis(Axis(1))); // mean value of all elements"
   ]
  },
  {
   "cell_type": "code",
   "execution_count": 71,
   "id": "0aca9e12",
   "metadata": {},
   "outputs": [],
   "source": [
    "//println!(\"min: {}\", &c.sum_axis(Axis(1))); // min value of all elements\n",
    "//println!(\"maxn: {}\", &c.sum_axis(Axis(1))); // max value of all elements"
   ]
  },
  {
   "cell_type": "markdown",
   "id": "48432c39",
   "metadata": {},
   "source": [
    "# Crate: Plotters (Matplotlib, Searborn alternative) ([github](https://github.com/plotters-rs/plotters))"
   ]
  },
  {
   "cell_type": "code",
   "execution_count": 86,
   "id": "8ec7ce33",
   "metadata": {},
   "outputs": [
    {
     "name": "stdout",
     "output_type": "stream",
     "text": [
      "[0, 0.33069396, 0.6613879, 0.9920819, 1.3227758, 1.6534698, 1.9841638, 2.3148577, 2.6455517, 2.9762456, 3.3069396, 3.6376336, 3.9683275, 4.2990217, 4.6297154, 4.960409, 5.2911034, 5.6217976, 5.9524913, 6.283185]\n"
     ]
    }
   ],
   "source": [
    "use ndarray::Array;\n",
    "\n",
    "// type is important! 0.: float, 2.0 * PI: float, 20: usize\n",
    "let x = Array::linspace(0., 2.0 * std::f32::consts::PI, 20);\n",
    "println!(\"{}\", x);"
   ]
  },
  {
   "cell_type": "code",
   "execution_count": 83,
   "id": "8ece58bd",
   "metadata": {},
   "outputs": [],
   "source": [
    "// Waiting PR (https://github.com/rust-ndarray/ndarray/pull/1042)\n",
    "//let y = ndarray sine calc function;"
   ]
  },
  {
   "cell_type": "code",
   "execution_count": 89,
   "id": "b8dacbdd",
   "metadata": {},
   "outputs": [
    {
     "data": {
      "text/html": [
       "<div style=\"\"><svg width=\"640\" height=\"480\" viewBox=\"0 0 640 480\" xmlns=\"http://www.w3.org/2000/svg\">\n",
       "<rect x=\"0\" y=\"0\" width=\"640\" height=\"480\" opacity=\"1\" fill=\"#FFFFFF\" stroke=\"none\"/>\n",
       "<text x=\"320\" y=\"10\" dy=\"0.76em\" text-anchor=\"middle\" font-family=\"Arial\" font-size=\"40.32258064516129\" opacity=\"1\" fill=\"#000000\">\n",
       "y=x^2\n",
       "</text>\n",
       "<line opacity=\"0.1\" stroke=\"#000000\" stroke-width=\"1\" x1=\"35\" y1=\"444\" x2=\"35\" y2=\"56\"/>\n",
       "<line opacity=\"0.1\" stroke=\"#000000\" stroke-width=\"1\" x1=\"40\" y1=\"444\" x2=\"40\" y2=\"56\"/>\n",
       "<line opacity=\"0.1\" stroke=\"#000000\" stroke-width=\"1\" x1=\"46\" y1=\"444\" x2=\"46\" y2=\"56\"/>\n",
       "<line opacity=\"0.1\" stroke=\"#000000\" stroke-width=\"1\" x1=\"52\" y1=\"444\" x2=\"52\" y2=\"56\"/>\n",
       "<line opacity=\"0.1\" stroke=\"#000000\" stroke-width=\"1\" x1=\"58\" y1=\"444\" x2=\"58\" y2=\"56\"/>\n",
       "<line opacity=\"0.1\" stroke=\"#000000\" stroke-width=\"1\" x1=\"64\" y1=\"444\" x2=\"64\" y2=\"56\"/>\n",
       "<line opacity=\"0.1\" stroke=\"#000000\" stroke-width=\"1\" x1=\"70\" y1=\"444\" x2=\"70\" y2=\"56\"/>\n",
       "<line opacity=\"0.1\" stroke=\"#000000\" stroke-width=\"1\" x1=\"76\" y1=\"444\" x2=\"76\" y2=\"56\"/>\n",
       "<line opacity=\"0.1\" stroke=\"#000000\" stroke-width=\"1\" x1=\"82\" y1=\"444\" x2=\"82\" y2=\"56\"/>\n",
       "<line opacity=\"0.1\" stroke=\"#000000\" stroke-width=\"1\" x1=\"88\" y1=\"444\" x2=\"88\" y2=\"56\"/>\n",
       "<line opacity=\"0.1\" stroke=\"#000000\" stroke-width=\"1\" x1=\"94\" y1=\"444\" x2=\"94\" y2=\"56\"/>\n",
       "<line opacity=\"0.1\" stroke=\"#000000\" stroke-width=\"1\" x1=\"100\" y1=\"444\" x2=\"100\" y2=\"56\"/>\n",
       "<line opacity=\"0.1\" stroke=\"#000000\" stroke-width=\"1\" x1=\"106\" y1=\"444\" x2=\"106\" y2=\"56\"/>\n",
       "<line opacity=\"0.1\" stroke=\"#000000\" stroke-width=\"1\" x1=\"112\" y1=\"444\" x2=\"112\" y2=\"56\"/>\n",
       "<line opacity=\"0.1\" stroke=\"#000000\" stroke-width=\"1\" x1=\"118\" y1=\"444\" x2=\"118\" y2=\"56\"/>\n",
       "<line opacity=\"0.1\" stroke=\"#000000\" stroke-width=\"1\" x1=\"124\" y1=\"444\" x2=\"124\" y2=\"56\"/>\n",
       "<line opacity=\"0.1\" stroke=\"#000000\" stroke-width=\"1\" x1=\"130\" y1=\"444\" x2=\"130\" y2=\"56\"/>\n",
       "<line opacity=\"0.1\" stroke=\"#000000\" stroke-width=\"1\" x1=\"136\" y1=\"444\" x2=\"136\" y2=\"56\"/>\n",
       "<line opacity=\"0.1\" stroke=\"#000000\" stroke-width=\"1\" x1=\"142\" y1=\"444\" x2=\"142\" y2=\"56\"/>\n",
       "<line opacity=\"0.1\" stroke=\"#000000\" stroke-width=\"1\" x1=\"148\" y1=\"444\" x2=\"148\" y2=\"56\"/>\n",
       "<line opacity=\"0.1\" stroke=\"#000000\" stroke-width=\"1\" x1=\"154\" y1=\"444\" x2=\"154\" y2=\"56\"/>\n",
       "<line opacity=\"0.1\" stroke=\"#000000\" stroke-width=\"1\" x1=\"160\" y1=\"444\" x2=\"160\" y2=\"56\"/>\n",
       "<line opacity=\"0.1\" stroke=\"#000000\" stroke-width=\"1\" x1=\"166\" y1=\"444\" x2=\"166\" y2=\"56\"/>\n",
       "<line opacity=\"0.1\" stroke=\"#000000\" stroke-width=\"1\" x1=\"172\" y1=\"444\" x2=\"172\" y2=\"56\"/>\n",
       "<line opacity=\"0.1\" stroke=\"#000000\" stroke-width=\"1\" x1=\"178\" y1=\"444\" x2=\"178\" y2=\"56\"/>\n",
       "<line opacity=\"0.1\" stroke=\"#000000\" stroke-width=\"1\" x1=\"184\" y1=\"444\" x2=\"184\" y2=\"56\"/>\n",
       "<line opacity=\"0.1\" stroke=\"#000000\" stroke-width=\"1\" x1=\"190\" y1=\"444\" x2=\"190\" y2=\"56\"/>\n",
       "<line opacity=\"0.1\" stroke=\"#000000\" stroke-width=\"1\" x1=\"196\" y1=\"444\" x2=\"196\" y2=\"56\"/>\n",
       "<line opacity=\"0.1\" stroke=\"#000000\" stroke-width=\"1\" x1=\"202\" y1=\"444\" x2=\"202\" y2=\"56\"/>\n",
       "<line opacity=\"0.1\" stroke=\"#000000\" stroke-width=\"1\" x1=\"208\" y1=\"444\" x2=\"208\" y2=\"56\"/>\n",
       "<line opacity=\"0.1\" stroke=\"#000000\" stroke-width=\"1\" x1=\"214\" y1=\"444\" x2=\"214\" y2=\"56\"/>\n",
       "<line opacity=\"0.1\" stroke=\"#000000\" stroke-width=\"1\" x1=\"220\" y1=\"444\" x2=\"220\" y2=\"56\"/>\n",
       "<line opacity=\"0.1\" stroke=\"#000000\" stroke-width=\"1\" x1=\"226\" y1=\"444\" x2=\"226\" y2=\"56\"/>\n",
       "<line opacity=\"0.1\" stroke=\"#000000\" stroke-width=\"1\" x1=\"232\" y1=\"444\" x2=\"232\" y2=\"56\"/>\n",
       "<line opacity=\"0.1\" stroke=\"#000000\" stroke-width=\"1\" x1=\"238\" y1=\"444\" x2=\"238\" y2=\"56\"/>\n",
       "<line opacity=\"0.1\" stroke=\"#000000\" stroke-width=\"1\" x1=\"244\" y1=\"444\" x2=\"244\" y2=\"56\"/>\n",
       "<line opacity=\"0.1\" stroke=\"#000000\" stroke-width=\"1\" x1=\"250\" y1=\"444\" x2=\"250\" y2=\"56\"/>\n",
       "<line opacity=\"0.1\" stroke=\"#000000\" stroke-width=\"1\" x1=\"256\" y1=\"444\" x2=\"256\" y2=\"56\"/>\n",
       "<line opacity=\"0.1\" stroke=\"#000000\" stroke-width=\"1\" x1=\"262\" y1=\"444\" x2=\"262\" y2=\"56\"/>\n",
       "<line opacity=\"0.1\" stroke=\"#000000\" stroke-width=\"1\" x1=\"268\" y1=\"444\" x2=\"268\" y2=\"56\"/>\n",
       "<line opacity=\"0.1\" stroke=\"#000000\" stroke-width=\"1\" x1=\"274\" y1=\"444\" x2=\"274\" y2=\"56\"/>\n",
       "<line opacity=\"0.1\" stroke=\"#000000\" stroke-width=\"1\" x1=\"280\" y1=\"444\" x2=\"280\" y2=\"56\"/>\n",
       "<line opacity=\"0.1\" stroke=\"#000000\" stroke-width=\"1\" x1=\"286\" y1=\"444\" x2=\"286\" y2=\"56\"/>\n",
       "<line opacity=\"0.1\" stroke=\"#000000\" stroke-width=\"1\" x1=\"292\" y1=\"444\" x2=\"292\" y2=\"56\"/>\n",
       "<line opacity=\"0.1\" stroke=\"#000000\" stroke-width=\"1\" x1=\"298\" y1=\"444\" x2=\"298\" y2=\"56\"/>\n",
       "<line opacity=\"0.1\" stroke=\"#000000\" stroke-width=\"1\" x1=\"304\" y1=\"444\" x2=\"304\" y2=\"56\"/>\n",
       "<line opacity=\"0.1\" stroke=\"#000000\" stroke-width=\"1\" x1=\"310\" y1=\"444\" x2=\"310\" y2=\"56\"/>\n",
       "<line opacity=\"0.1\" stroke=\"#000000\" stroke-width=\"1\" x1=\"316\" y1=\"444\" x2=\"316\" y2=\"56\"/>\n",
       "<line opacity=\"0.1\" stroke=\"#000000\" stroke-width=\"1\" x1=\"322\" y1=\"444\" x2=\"322\" y2=\"56\"/>\n",
       "<line opacity=\"0.1\" stroke=\"#000000\" stroke-width=\"1\" x1=\"328\" y1=\"444\" x2=\"328\" y2=\"56\"/>\n",
       "<line opacity=\"0.1\" stroke=\"#000000\" stroke-width=\"1\" x1=\"334\" y1=\"444\" x2=\"334\" y2=\"56\"/>\n",
       "<line opacity=\"0.1\" stroke=\"#000000\" stroke-width=\"1\" x1=\"340\" y1=\"444\" x2=\"340\" y2=\"56\"/>\n",
       "<line opacity=\"0.1\" stroke=\"#000000\" stroke-width=\"1\" x1=\"346\" y1=\"444\" x2=\"346\" y2=\"56\"/>\n",
       "<line opacity=\"0.1\" stroke=\"#000000\" stroke-width=\"1\" x1=\"352\" y1=\"444\" x2=\"352\" y2=\"56\"/>\n",
       "<line opacity=\"0.1\" stroke=\"#000000\" stroke-width=\"1\" x1=\"358\" y1=\"444\" x2=\"358\" y2=\"56\"/>\n",
       "<line opacity=\"0.1\" stroke=\"#000000\" stroke-width=\"1\" x1=\"364\" y1=\"444\" x2=\"364\" y2=\"56\"/>\n",
       "<line opacity=\"0.1\" stroke=\"#000000\" stroke-width=\"1\" x1=\"370\" y1=\"444\" x2=\"370\" y2=\"56\"/>\n",
       "<line opacity=\"0.1\" stroke=\"#000000\" stroke-width=\"1\" x1=\"376\" y1=\"444\" x2=\"376\" y2=\"56\"/>\n",
       "<line opacity=\"0.1\" stroke=\"#000000\" stroke-width=\"1\" x1=\"382\" y1=\"444\" x2=\"382\" y2=\"56\"/>\n",
       "<line opacity=\"0.1\" stroke=\"#000000\" stroke-width=\"1\" x1=\"388\" y1=\"444\" x2=\"388\" y2=\"56\"/>\n",
       "<line opacity=\"0.1\" stroke=\"#000000\" stroke-width=\"1\" x1=\"394\" y1=\"444\" x2=\"394\" y2=\"56\"/>\n",
       "<line opacity=\"0.1\" stroke=\"#000000\" stroke-width=\"1\" x1=\"400\" y1=\"444\" x2=\"400\" y2=\"56\"/>\n",
       "<line opacity=\"0.1\" stroke=\"#000000\" stroke-width=\"1\" x1=\"406\" y1=\"444\" x2=\"406\" y2=\"56\"/>\n",
       "<line opacity=\"0.1\" stroke=\"#000000\" stroke-width=\"1\" x1=\"412\" y1=\"444\" x2=\"412\" y2=\"56\"/>\n",
       "<line opacity=\"0.1\" stroke=\"#000000\" stroke-width=\"1\" x1=\"418\" y1=\"444\" x2=\"418\" y2=\"56\"/>\n",
       "<line opacity=\"0.1\" stroke=\"#000000\" stroke-width=\"1\" x1=\"424\" y1=\"444\" x2=\"424\" y2=\"56\"/>\n",
       "<line opacity=\"0.1\" stroke=\"#000000\" stroke-width=\"1\" x1=\"430\" y1=\"444\" x2=\"430\" y2=\"56\"/>\n",
       "<line opacity=\"0.1\" stroke=\"#000000\" stroke-width=\"1\" x1=\"436\" y1=\"444\" x2=\"436\" y2=\"56\"/>\n",
       "<line opacity=\"0.1\" stroke=\"#000000\" stroke-width=\"1\" x1=\"442\" y1=\"444\" x2=\"442\" y2=\"56\"/>\n",
       "<line opacity=\"0.1\" stroke=\"#000000\" stroke-width=\"1\" x1=\"448\" y1=\"444\" x2=\"448\" y2=\"56\"/>\n",
       "<line opacity=\"0.1\" stroke=\"#000000\" stroke-width=\"1\" x1=\"454\" y1=\"444\" x2=\"454\" y2=\"56\"/>\n",
       "<line opacity=\"0.1\" stroke=\"#000000\" stroke-width=\"1\" x1=\"460\" y1=\"444\" x2=\"460\" y2=\"56\"/>\n",
       "<line opacity=\"0.1\" stroke=\"#000000\" stroke-width=\"1\" x1=\"466\" y1=\"444\" x2=\"466\" y2=\"56\"/>\n",
       "<line opacity=\"0.1\" stroke=\"#000000\" stroke-width=\"1\" x1=\"472\" y1=\"444\" x2=\"472\" y2=\"56\"/>\n",
       "<line opacity=\"0.1\" stroke=\"#000000\" stroke-width=\"1\" x1=\"478\" y1=\"444\" x2=\"478\" y2=\"56\"/>\n",
       "<line opacity=\"0.1\" stroke=\"#000000\" stroke-width=\"1\" x1=\"484\" y1=\"444\" x2=\"484\" y2=\"56\"/>\n",
       "<line opacity=\"0.1\" stroke=\"#000000\" stroke-width=\"1\" x1=\"490\" y1=\"444\" x2=\"490\" y2=\"56\"/>\n",
       "<line opacity=\"0.1\" stroke=\"#000000\" stroke-width=\"1\" x1=\"496\" y1=\"444\" x2=\"496\" y2=\"56\"/>\n",
       "<line opacity=\"0.1\" stroke=\"#000000\" stroke-width=\"1\" x1=\"502\" y1=\"444\" x2=\"502\" y2=\"56\"/>\n",
       "<line opacity=\"0.1\" stroke=\"#000000\" stroke-width=\"1\" x1=\"508\" y1=\"444\" x2=\"508\" y2=\"56\"/>\n",
       "<line opacity=\"0.1\" stroke=\"#000000\" stroke-width=\"1\" x1=\"514\" y1=\"444\" x2=\"514\" y2=\"56\"/>\n",
       "<line opacity=\"0.1\" stroke=\"#000000\" stroke-width=\"1\" x1=\"520\" y1=\"444\" x2=\"520\" y2=\"56\"/>\n",
       "<line opacity=\"0.1\" stroke=\"#000000\" stroke-width=\"1\" x1=\"526\" y1=\"444\" x2=\"526\" y2=\"56\"/>\n",
       "<line opacity=\"0.1\" stroke=\"#000000\" stroke-width=\"1\" x1=\"532\" y1=\"444\" x2=\"532\" y2=\"56\"/>\n",
       "<line opacity=\"0.1\" stroke=\"#000000\" stroke-width=\"1\" x1=\"538\" y1=\"444\" x2=\"538\" y2=\"56\"/>\n",
       "<line opacity=\"0.1\" stroke=\"#000000\" stroke-width=\"1\" x1=\"544\" y1=\"444\" x2=\"544\" y2=\"56\"/>\n",
       "<line opacity=\"0.1\" stroke=\"#000000\" stroke-width=\"1\" x1=\"550\" y1=\"444\" x2=\"550\" y2=\"56\"/>\n",
       "<line opacity=\"0.1\" stroke=\"#000000\" stroke-width=\"1\" x1=\"556\" y1=\"444\" x2=\"556\" y2=\"56\"/>\n",
       "<line opacity=\"0.1\" stroke=\"#000000\" stroke-width=\"1\" x1=\"562\" y1=\"444\" x2=\"562\" y2=\"56\"/>\n",
       "<line opacity=\"0.1\" stroke=\"#000000\" stroke-width=\"1\" x1=\"568\" y1=\"444\" x2=\"568\" y2=\"56\"/>\n",
       "<line opacity=\"0.1\" stroke=\"#000000\" stroke-width=\"1\" x1=\"574\" y1=\"444\" x2=\"574\" y2=\"56\"/>\n",
       "<line opacity=\"0.1\" stroke=\"#000000\" stroke-width=\"1\" x1=\"580\" y1=\"444\" x2=\"580\" y2=\"56\"/>\n",
       "<line opacity=\"0.1\" stroke=\"#000000\" stroke-width=\"1\" x1=\"586\" y1=\"444\" x2=\"586\" y2=\"56\"/>\n",
       "<line opacity=\"0.1\" stroke=\"#000000\" stroke-width=\"1\" x1=\"592\" y1=\"444\" x2=\"592\" y2=\"56\"/>\n",
       "<line opacity=\"0.1\" stroke=\"#000000\" stroke-width=\"1\" x1=\"598\" y1=\"444\" x2=\"598\" y2=\"56\"/>\n",
       "<line opacity=\"0.1\" stroke=\"#000000\" stroke-width=\"1\" x1=\"604\" y1=\"444\" x2=\"604\" y2=\"56\"/>\n",
       "<line opacity=\"0.1\" stroke=\"#000000\" stroke-width=\"1\" x1=\"610\" y1=\"444\" x2=\"610\" y2=\"56\"/>\n",
       "<line opacity=\"0.1\" stroke=\"#000000\" stroke-width=\"1\" x1=\"616\" y1=\"444\" x2=\"616\" y2=\"56\"/>\n",
       "<line opacity=\"0.1\" stroke=\"#000000\" stroke-width=\"1\" x1=\"622\" y1=\"444\" x2=\"622\" y2=\"56\"/>\n",
       "<line opacity=\"0.1\" stroke=\"#000000\" stroke-width=\"1\" x1=\"628\" y1=\"444\" x2=\"628\" y2=\"56\"/>\n",
       "<line opacity=\"0.1\" stroke=\"#000000\" stroke-width=\"1\" x1=\"35\" y1=\"444\" x2=\"634\" y2=\"444\"/>\n",
       "<line opacity=\"0.1\" stroke=\"#000000\" stroke-width=\"1\" x1=\"35\" y1=\"437\" x2=\"634\" y2=\"437\"/>\n",
       "<line opacity=\"0.1\" stroke=\"#000000\" stroke-width=\"1\" x1=\"35\" y1=\"430\" x2=\"634\" y2=\"430\"/>\n",
       "<line opacity=\"0.1\" stroke=\"#000000\" stroke-width=\"1\" x1=\"35\" y1=\"423\" x2=\"634\" y2=\"423\"/>\n",
       "<line opacity=\"0.1\" stroke=\"#000000\" stroke-width=\"1\" x1=\"35\" y1=\"416\" x2=\"634\" y2=\"416\"/>\n",
       "<line opacity=\"0.1\" stroke=\"#000000\" stroke-width=\"1\" x1=\"35\" y1=\"409\" x2=\"634\" y2=\"409\"/>\n",
       "<line opacity=\"0.1\" stroke=\"#000000\" stroke-width=\"1\" x1=\"35\" y1=\"402\" x2=\"634\" y2=\"402\"/>\n",
       "<line opacity=\"0.1\" stroke=\"#000000\" stroke-width=\"1\" x1=\"35\" y1=\"395\" x2=\"634\" y2=\"395\"/>\n",
       "<line opacity=\"0.1\" stroke=\"#000000\" stroke-width=\"1\" x1=\"35\" y1=\"388\" x2=\"634\" y2=\"388\"/>\n",
       "<line opacity=\"0.1\" stroke=\"#000000\" stroke-width=\"1\" x1=\"35\" y1=\"381\" x2=\"634\" y2=\"381\"/>\n",
       "<line opacity=\"0.1\" stroke=\"#000000\" stroke-width=\"1\" x1=\"35\" y1=\"374\" x2=\"634\" y2=\"374\"/>\n",
       "<line opacity=\"0.1\" stroke=\"#000000\" stroke-width=\"1\" x1=\"35\" y1=\"367\" x2=\"634\" y2=\"367\"/>\n",
       "<line opacity=\"0.1\" stroke=\"#000000\" stroke-width=\"1\" x1=\"35\" y1=\"360\" x2=\"634\" y2=\"360\"/>\n",
       "<line opacity=\"0.1\" stroke=\"#000000\" stroke-width=\"1\" x1=\"35\" y1=\"353\" x2=\"634\" y2=\"353\"/>\n",
       "<line opacity=\"0.1\" stroke=\"#000000\" stroke-width=\"1\" x1=\"35\" y1=\"346\" x2=\"634\" y2=\"346\"/>\n",
       "<line opacity=\"0.1\" stroke=\"#000000\" stroke-width=\"1\" x1=\"35\" y1=\"339\" x2=\"634\" y2=\"339\"/>\n",
       "<line opacity=\"0.1\" stroke=\"#000000\" stroke-width=\"1\" x1=\"35\" y1=\"332\" x2=\"634\" y2=\"332\"/>\n",
       "<line opacity=\"0.1\" stroke=\"#000000\" stroke-width=\"1\" x1=\"35\" y1=\"325\" x2=\"634\" y2=\"325\"/>\n",
       "<line opacity=\"0.1\" stroke=\"#000000\" stroke-width=\"1\" x1=\"35\" y1=\"318\" x2=\"634\" y2=\"318\"/>\n",
       "<line opacity=\"0.1\" stroke=\"#000000\" stroke-width=\"1\" x1=\"35\" y1=\"310\" x2=\"634\" y2=\"310\"/>\n",
       "<line opacity=\"0.1\" stroke=\"#000000\" stroke-width=\"1\" x1=\"35\" y1=\"303\" x2=\"634\" y2=\"303\"/>\n",
       "<line opacity=\"0.1\" stroke=\"#000000\" stroke-width=\"1\" x1=\"35\" y1=\"296\" x2=\"634\" y2=\"296\"/>\n",
       "<line opacity=\"0.1\" stroke=\"#000000\" stroke-width=\"1\" x1=\"35\" y1=\"289\" x2=\"634\" y2=\"289\"/>\n",
       "<line opacity=\"0.1\" stroke=\"#000000\" stroke-width=\"1\" x1=\"35\" y1=\"282\" x2=\"634\" y2=\"282\"/>\n",
       "<line opacity=\"0.1\" stroke=\"#000000\" stroke-width=\"1\" x1=\"35\" y1=\"275\" x2=\"634\" y2=\"275\"/>\n",
       "<line opacity=\"0.1\" stroke=\"#000000\" stroke-width=\"1\" x1=\"35\" y1=\"268\" x2=\"634\" y2=\"268\"/>\n",
       "<line opacity=\"0.1\" stroke=\"#000000\" stroke-width=\"1\" x1=\"35\" y1=\"261\" x2=\"634\" y2=\"261\"/>\n",
       "<line opacity=\"0.1\" stroke=\"#000000\" stroke-width=\"1\" x1=\"35\" y1=\"254\" x2=\"634\" y2=\"254\"/>\n",
       "<line opacity=\"0.1\" stroke=\"#000000\" stroke-width=\"1\" x1=\"35\" y1=\"247\" x2=\"634\" y2=\"247\"/>\n",
       "<line opacity=\"0.1\" stroke=\"#000000\" stroke-width=\"1\" x1=\"35\" y1=\"240\" x2=\"634\" y2=\"240\"/>\n",
       "<line opacity=\"0.1\" stroke=\"#000000\" stroke-width=\"1\" x1=\"35\" y1=\"233\" x2=\"634\" y2=\"233\"/>\n",
       "<line opacity=\"0.1\" stroke=\"#000000\" stroke-width=\"1\" x1=\"35\" y1=\"226\" x2=\"634\" y2=\"226\"/>\n",
       "<line opacity=\"0.1\" stroke=\"#000000\" stroke-width=\"1\" x1=\"35\" y1=\"219\" x2=\"634\" y2=\"219\"/>\n",
       "<line opacity=\"0.1\" stroke=\"#000000\" stroke-width=\"1\" x1=\"35\" y1=\"212\" x2=\"634\" y2=\"212\"/>\n",
       "<line opacity=\"0.1\" stroke=\"#000000\" stroke-width=\"1\" x1=\"35\" y1=\"205\" x2=\"634\" y2=\"205\"/>\n",
       "<line opacity=\"0.1\" stroke=\"#000000\" stroke-width=\"1\" x1=\"35\" y1=\"198\" x2=\"634\" y2=\"198\"/>\n",
       "<line opacity=\"0.1\" stroke=\"#000000\" stroke-width=\"1\" x1=\"35\" y1=\"191\" x2=\"634\" y2=\"191\"/>\n",
       "<line opacity=\"0.1\" stroke=\"#000000\" stroke-width=\"1\" x1=\"35\" y1=\"183\" x2=\"634\" y2=\"183\"/>\n",
       "<line opacity=\"0.1\" stroke=\"#000000\" stroke-width=\"1\" x1=\"35\" y1=\"176\" x2=\"634\" y2=\"176\"/>\n",
       "<line opacity=\"0.1\" stroke=\"#000000\" stroke-width=\"1\" x1=\"35\" y1=\"169\" x2=\"634\" y2=\"169\"/>\n",
       "<line opacity=\"0.1\" stroke=\"#000000\" stroke-width=\"1\" x1=\"35\" y1=\"162\" x2=\"634\" y2=\"162\"/>\n",
       "<line opacity=\"0.1\" stroke=\"#000000\" stroke-width=\"1\" x1=\"35\" y1=\"155\" x2=\"634\" y2=\"155\"/>\n",
       "<line opacity=\"0.1\" stroke=\"#000000\" stroke-width=\"1\" x1=\"35\" y1=\"148\" x2=\"634\" y2=\"148\"/>\n",
       "<line opacity=\"0.1\" stroke=\"#000000\" stroke-width=\"1\" x1=\"35\" y1=\"141\" x2=\"634\" y2=\"141\"/>\n",
       "<line opacity=\"0.1\" stroke=\"#000000\" stroke-width=\"1\" x1=\"35\" y1=\"134\" x2=\"634\" y2=\"134\"/>\n",
       "<line opacity=\"0.1\" stroke=\"#000000\" stroke-width=\"1\" x1=\"35\" y1=\"127\" x2=\"634\" y2=\"127\"/>\n",
       "<line opacity=\"0.1\" stroke=\"#000000\" stroke-width=\"1\" x1=\"35\" y1=\"120\" x2=\"634\" y2=\"120\"/>\n",
       "<line opacity=\"0.1\" stroke=\"#000000\" stroke-width=\"1\" x1=\"35\" y1=\"113\" x2=\"634\" y2=\"113\"/>\n",
       "<line opacity=\"0.1\" stroke=\"#000000\" stroke-width=\"1\" x1=\"35\" y1=\"106\" x2=\"634\" y2=\"106\"/>\n",
       "<line opacity=\"0.1\" stroke=\"#000000\" stroke-width=\"1\" x1=\"35\" y1=\"99\" x2=\"634\" y2=\"99\"/>\n",
       "<line opacity=\"0.1\" stroke=\"#000000\" stroke-width=\"1\" x1=\"35\" y1=\"92\" x2=\"634\" y2=\"92\"/>\n",
       "<line opacity=\"0.1\" stroke=\"#000000\" stroke-width=\"1\" x1=\"35\" y1=\"85\" x2=\"634\" y2=\"85\"/>\n",
       "<line opacity=\"0.1\" stroke=\"#000000\" stroke-width=\"1\" x1=\"35\" y1=\"78\" x2=\"634\" y2=\"78\"/>\n",
       "<line opacity=\"0.1\" stroke=\"#000000\" stroke-width=\"1\" x1=\"35\" y1=\"71\" x2=\"634\" y2=\"71\"/>\n",
       "<line opacity=\"0.1\" stroke=\"#000000\" stroke-width=\"1\" x1=\"35\" y1=\"64\" x2=\"634\" y2=\"64\"/>\n",
       "<line opacity=\"0.2\" stroke=\"#000000\" stroke-width=\"1\" x1=\"35\" y1=\"444\" x2=\"35\" y2=\"56\"/>\n",
       "<line opacity=\"0.2\" stroke=\"#000000\" stroke-width=\"1\" x1=\"94\" y1=\"444\" x2=\"94\" y2=\"56\"/>\n",
       "<line opacity=\"0.2\" stroke=\"#000000\" stroke-width=\"1\" x1=\"154\" y1=\"444\" x2=\"154\" y2=\"56\"/>\n",
       "<line opacity=\"0.2\" stroke=\"#000000\" stroke-width=\"1\" x1=\"214\" y1=\"444\" x2=\"214\" y2=\"56\"/>\n",
       "<line opacity=\"0.2\" stroke=\"#000000\" stroke-width=\"1\" x1=\"274\" y1=\"444\" x2=\"274\" y2=\"56\"/>\n",
       "<line opacity=\"0.2\" stroke=\"#000000\" stroke-width=\"1\" x1=\"334\" y1=\"444\" x2=\"334\" y2=\"56\"/>\n",
       "<line opacity=\"0.2\" stroke=\"#000000\" stroke-width=\"1\" x1=\"394\" y1=\"444\" x2=\"394\" y2=\"56\"/>\n",
       "<line opacity=\"0.2\" stroke=\"#000000\" stroke-width=\"1\" x1=\"454\" y1=\"444\" x2=\"454\" y2=\"56\"/>\n",
       "<line opacity=\"0.2\" stroke=\"#000000\" stroke-width=\"1\" x1=\"514\" y1=\"444\" x2=\"514\" y2=\"56\"/>\n",
       "<line opacity=\"0.2\" stroke=\"#000000\" stroke-width=\"1\" x1=\"574\" y1=\"444\" x2=\"574\" y2=\"56\"/>\n",
       "<line opacity=\"0.2\" stroke=\"#000000\" stroke-width=\"1\" x1=\"634\" y1=\"444\" x2=\"634\" y2=\"56\"/>\n",
       "<line opacity=\"0.2\" stroke=\"#000000\" stroke-width=\"1\" x1=\"35\" y1=\"409\" x2=\"634\" y2=\"409\"/>\n",
       "<line opacity=\"0.2\" stroke=\"#000000\" stroke-width=\"1\" x1=\"35\" y1=\"339\" x2=\"634\" y2=\"339\"/>\n",
       "<line opacity=\"0.2\" stroke=\"#000000\" stroke-width=\"1\" x1=\"35\" y1=\"268\" x2=\"634\" y2=\"268\"/>\n",
       "<line opacity=\"0.2\" stroke=\"#000000\" stroke-width=\"1\" x1=\"35\" y1=\"198\" x2=\"634\" y2=\"198\"/>\n",
       "<line opacity=\"0.2\" stroke=\"#000000\" stroke-width=\"1\" x1=\"35\" y1=\"127\" x2=\"634\" y2=\"127\"/>\n",
       "<line opacity=\"0.2\" stroke=\"#000000\" stroke-width=\"1\" x1=\"35\" y1=\"56\" x2=\"634\" y2=\"56\"/>\n",
       "<polyline fill=\"none\" opacity=\"1\" stroke=\"#000000\" stroke-width=\"1\" points=\"34,56 34,444 \"/>\n",
       "<text x=\"25\" y=\"409\" dy=\"0.5ex\" text-anchor=\"end\" font-family=\"sans-serif\" font-size=\"9.67741935483871\" opacity=\"1\" fill=\"#000000\">\n",
       "0.0\n",
       "</text>\n",
       "<polyline fill=\"none\" opacity=\"1\" stroke=\"#000000\" stroke-width=\"1\" points=\"29,409 34,409 \"/>\n",
       "<text x=\"25\" y=\"339\" dy=\"0.5ex\" text-anchor=\"end\" font-family=\"sans-serif\" font-size=\"9.67741935483871\" opacity=\"1\" fill=\"#000000\">\n",
       "0.2\n",
       "</text>\n",
       "<polyline fill=\"none\" opacity=\"1\" stroke=\"#000000\" stroke-width=\"1\" points=\"29,339 34,339 \"/>\n",
       "<text x=\"25\" y=\"268\" dy=\"0.5ex\" text-anchor=\"end\" font-family=\"sans-serif\" font-size=\"9.67741935483871\" opacity=\"1\" fill=\"#000000\">\n",
       "0.4\n",
       "</text>\n",
       "<polyline fill=\"none\" opacity=\"1\" stroke=\"#000000\" stroke-width=\"1\" points=\"29,268 34,268 \"/>\n",
       "<text x=\"25\" y=\"198\" dy=\"0.5ex\" text-anchor=\"end\" font-family=\"sans-serif\" font-size=\"9.67741935483871\" opacity=\"1\" fill=\"#000000\">\n",
       "0.6\n",
       "</text>\n",
       "<polyline fill=\"none\" opacity=\"1\" stroke=\"#000000\" stroke-width=\"1\" points=\"29,198 34,198 \"/>\n",
       "<text x=\"25\" y=\"127\" dy=\"0.5ex\" text-anchor=\"end\" font-family=\"sans-serif\" font-size=\"9.67741935483871\" opacity=\"1\" fill=\"#000000\">\n",
       "0.8\n",
       "</text>\n",
       "<polyline fill=\"none\" opacity=\"1\" stroke=\"#000000\" stroke-width=\"1\" points=\"29,127 34,127 \"/>\n",
       "<text x=\"25\" y=\"56\" dy=\"0.5ex\" text-anchor=\"end\" font-family=\"sans-serif\" font-size=\"9.67741935483871\" opacity=\"1\" fill=\"#000000\">\n",
       "1.0\n",
       "</text>\n",
       "<polyline fill=\"none\" opacity=\"1\" stroke=\"#000000\" stroke-width=\"1\" points=\"29,56 34,56 \"/>\n",
       "<polyline fill=\"none\" opacity=\"1\" stroke=\"#000000\" stroke-width=\"1\" points=\"35,445 634,445 \"/>\n",
       "<text x=\"35\" y=\"455\" dy=\"0.76em\" text-anchor=\"middle\" font-family=\"sans-serif\" font-size=\"9.67741935483871\" opacity=\"1\" fill=\"#000000\">\n",
       "-1.0\n",
       "</text>\n",
       "<polyline fill=\"none\" opacity=\"1\" stroke=\"#000000\" stroke-width=\"1\" points=\"35,445 35,450 \"/>\n",
       "<text x=\"94\" y=\"455\" dy=\"0.76em\" text-anchor=\"middle\" font-family=\"sans-serif\" font-size=\"9.67741935483871\" opacity=\"1\" fill=\"#000000\">\n",
       "-0.8\n",
       "</text>\n",
       "<polyline fill=\"none\" opacity=\"1\" stroke=\"#000000\" stroke-width=\"1\" points=\"94,445 94,450 \"/>\n",
       "<text x=\"154\" y=\"455\" dy=\"0.76em\" text-anchor=\"middle\" font-family=\"sans-serif\" font-size=\"9.67741935483871\" opacity=\"1\" fill=\"#000000\">\n",
       "-0.6\n",
       "</text>\n",
       "<polyline fill=\"none\" opacity=\"1\" stroke=\"#000000\" stroke-width=\"1\" points=\"154,445 154,450 \"/>\n",
       "<text x=\"214\" y=\"455\" dy=\"0.76em\" text-anchor=\"middle\" font-family=\"sans-serif\" font-size=\"9.67741935483871\" opacity=\"1\" fill=\"#000000\">\n",
       "-0.4\n",
       "</text>\n",
       "<polyline fill=\"none\" opacity=\"1\" stroke=\"#000000\" stroke-width=\"1\" points=\"214,445 214,450 \"/>\n",
       "<text x=\"274\" y=\"455\" dy=\"0.76em\" text-anchor=\"middle\" font-family=\"sans-serif\" font-size=\"9.67741935483871\" opacity=\"1\" fill=\"#000000\">\n",
       "-0.2\n",
       "</text>\n",
       "<polyline fill=\"none\" opacity=\"1\" stroke=\"#000000\" stroke-width=\"1\" points=\"274,445 274,450 \"/>\n",
       "<text x=\"334\" y=\"455\" dy=\"0.76em\" text-anchor=\"middle\" font-family=\"sans-serif\" font-size=\"9.67741935483871\" opacity=\"1\" fill=\"#000000\">\n",
       "0.0\n",
       "</text>\n",
       "<polyline fill=\"none\" opacity=\"1\" stroke=\"#000000\" stroke-width=\"1\" points=\"334,445 334,450 \"/>\n",
       "<text x=\"394\" y=\"455\" dy=\"0.76em\" text-anchor=\"middle\" font-family=\"sans-serif\" font-size=\"9.67741935483871\" opacity=\"1\" fill=\"#000000\">\n",
       "0.2\n",
       "</text>\n",
       "<polyline fill=\"none\" opacity=\"1\" stroke=\"#000000\" stroke-width=\"1\" points=\"394,445 394,450 \"/>\n",
       "<text x=\"454\" y=\"455\" dy=\"0.76em\" text-anchor=\"middle\" font-family=\"sans-serif\" font-size=\"9.67741935483871\" opacity=\"1\" fill=\"#000000\">\n",
       "0.4\n",
       "</text>\n",
       "<polyline fill=\"none\" opacity=\"1\" stroke=\"#000000\" stroke-width=\"1\" points=\"454,445 454,450 \"/>\n",
       "<text x=\"514\" y=\"455\" dy=\"0.76em\" text-anchor=\"middle\" font-family=\"sans-serif\" font-size=\"9.67741935483871\" opacity=\"1\" fill=\"#000000\">\n",
       "0.6\n",
       "</text>\n",
       "<polyline fill=\"none\" opacity=\"1\" stroke=\"#000000\" stroke-width=\"1\" points=\"514,445 514,450 \"/>\n",
       "<text x=\"574\" y=\"455\" dy=\"0.76em\" text-anchor=\"middle\" font-family=\"sans-serif\" font-size=\"9.67741935483871\" opacity=\"1\" fill=\"#000000\">\n",
       "0.8\n",
       "</text>\n",
       "<polyline fill=\"none\" opacity=\"1\" stroke=\"#000000\" stroke-width=\"1\" points=\"574,445 574,450 \"/>\n",
       "<text x=\"634\" y=\"455\" dy=\"0.76em\" text-anchor=\"middle\" font-family=\"sans-serif\" font-size=\"9.67741935483871\" opacity=\"1\" fill=\"#000000\">\n",
       "1.0\n",
       "</text>\n",
       "<polyline fill=\"none\" opacity=\"1\" stroke=\"#000000\" stroke-width=\"1\" points=\"634,445 634,450 \"/>\n",
       "<polyline fill=\"none\" opacity=\"1\" stroke=\"#FF0000\" stroke-width=\"1\" points=\"35,56 40,70 46,84 52,98 58,111 64,124 70,136 76,148 82,160 88,172 94,183 100,195 106,205 112,216 118,226 124,236 130,246 136,256 142,265 148,274 154,282 160,291 166,299 172,306 178,314 184,321 190,328 196,335 202,341 208,347 214,353 220,358 226,364 232,368 238,373 244,377 250,382 256,385 262,389 268,392 274,395 280,398 286,400 292,402 298,404 304,406 310,407 316,408 322,409 328,409 334,409 340,409 346,409 352,408 358,407 364,406 370,404 376,402 382,400 388,398 394,395 400,392 406,389 412,385 418,382 424,377 430,373 436,368 442,364 448,358 454,353 460,347 466,341 472,335 478,328 484,321 490,314 496,306 502,299 508,291 514,282 520,274 526,265 532,256 538,246 544,236 550,226 556,216 562,205 568,195 574,183 580,172 586,160 592,148 598,136 604,124 610,111 616,98 622,84 628,70 634,56 \"/>\n",
       "<rect x=\"542\" y=\"235\" width=\"88\" height=\"30\" opacity=\"0.8\" fill=\"#FFFFFF\" stroke=\"none\"/>\n",
       "<rect x=\"542\" y=\"235\" width=\"88\" height=\"30\" opacity=\"1\" fill=\"none\" stroke=\"#000000\"/>\n",
       "<text x=\"582\" y=\"245\" dy=\"0.76em\" text-anchor=\"start\" font-family=\"sans-serif\" font-size=\"9.67741935483871\" opacity=\"1\" fill=\"#000000\">\n",
       "y = x^2\n",
       "</text>\n",
       "<polyline fill=\"none\" opacity=\"1\" stroke=\"#FF0000\" stroke-width=\"1\" points=\"552,250 572,250 \"/>\n",
       "</svg>\n",
       "</div>"
      ]
     },
     "execution_count": 89,
     "metadata": {},
     "output_type": "execute_result"
    }
   ],
   "source": [
    "// code from plotters documentation.\n",
    ":dep plotters = { git = \"https://github.com/38/plotters\", default_features = false, features = [\"evcxr\", \"line_series\"] }\n",
    "extern crate plotters;\n",
    "use plotters::prelude::*;\n",
    "\n",
    "let figure = evcxr_figure((640, 480), |root| {\n",
    "    root.fill(&WHITE)?;\n",
    "    let mut chart = ChartBuilder::on(&root)\n",
    "        .caption(\"y=x^2\", (\"Arial\", 50).into_font())\n",
    "        .margin(5)\n",
    "        .x_label_area_size(30)\n",
    "        .y_label_area_size(30)\n",
    "        .build_cartesian_2d(-1f32..1f32, -0.1f32..1f32)?;\n",
    "\n",
    "    chart.configure_mesh().draw()?;\n",
    "\n",
    "    chart.draw_series(LineSeries::new(\n",
    "        (-50..=50).map(|x| x as f32 / 50.0).map(|x| (x, x * x)),\n",
    "        &RED,\n",
    "    )).unwrap()\n",
    "        .label(\"y = x^2\")\n",
    "        .legend(|(x,y)| PathElement::new(vec![(x,y), (x + 20,y)], &RED));\n",
    "\n",
    "    chart.configure_series_labels()\n",
    "        .background_style(&WHITE.mix(0.8))\n",
    "        .border_style(&BLACK)\n",
    "        .draw()?;\n",
    "    Ok(())\n",
    "});\n",
    "figure"
   ]
  },
  {
   "cell_type": "markdown",
   "id": "b7c1ec51",
   "metadata": {},
   "source": [
    "# Other Crates(Libraries)\n",
    "* Polars (pandas alternative) ([github](https://github.com/pola-rs/polars))\n",
    "* nalgebra (scipy alternative) ([github](https://github.com/dimforge/nalgebra))\n",
    "* Linfa (scikit-learn alternative) ([github](https://github.com/rust-ml/linfa))\n",
    "* OpenCV-rust(OpenCV binding) ([github](https://github.com/twistedfall/opencv-rust))\n",
    "* Image(basic image processing) ([github](https://github.com/image-rs/image)) "
   ]
  },
  {
   "cell_type": "code",
   "execution_count": null,
   "id": "8ce45b82",
   "metadata": {},
   "outputs": [],
   "source": []
  }
 ],
 "metadata": {
  "kernelspec": {
   "display_name": "Rust",
   "language": "rust",
   "name": "rust"
  },
  "language_info": {
   "codemirror_mode": "rust",
   "file_extension": ".rs",
   "mimetype": "text/rust",
   "name": "Rust",
   "pygment_lexer": "rust",
   "version": ""
  }
 },
 "nbformat": 4,
 "nbformat_minor": 5
}
